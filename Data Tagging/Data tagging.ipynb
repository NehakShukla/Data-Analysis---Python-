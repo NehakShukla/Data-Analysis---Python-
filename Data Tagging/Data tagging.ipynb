{
  "nbformat": 4,
  "nbformat_minor": 0,
  "metadata": {
    "colab": {
      "provenance": []
    },
    "kernelspec": {
      "name": "python3",
      "display_name": "Python 3"
    },
    "language_info": {
      "name": "python"
    }
  },
  "cells": [
    {
      "cell_type": "code",
      "source": [
        "#installed all the required libraries\n",
        "\n",
        " !pip install numpy\n",
        "!pip install panda\n",
        "!pip install matplotlib\n",
        "!pip install thefuzz\n",
        "!pip install seaborn"
      ],
      "metadata": {
        "colab": {
          "base_uri": "https://localhost:8080/"
        },
        "id": "YywkpPeA5w4H",
        "outputId": "a96e4bcf-7022-43ec-e44f-405826dc0161"
      },
      "execution_count": 33,
      "outputs": [
        {
          "output_type": "stream",
          "name": "stdout",
          "text": [
            "Requirement already satisfied: panda in /usr/local/lib/python3.11/dist-packages (0.3.1)\n",
            "Requirement already satisfied: setuptools in /usr/local/lib/python3.11/dist-packages (from panda) (75.1.0)\n",
            "Requirement already satisfied: requests in /usr/local/lib/python3.11/dist-packages (from panda) (2.32.3)\n",
            "Requirement already satisfied: charset-normalizer<4,>=2 in /usr/local/lib/python3.11/dist-packages (from requests->panda) (3.4.1)\n",
            "Requirement already satisfied: idna<4,>=2.5 in /usr/local/lib/python3.11/dist-packages (from requests->panda) (3.10)\n",
            "Requirement already satisfied: urllib3<3,>=1.21.1 in /usr/local/lib/python3.11/dist-packages (from requests->panda) (2.3.0)\n",
            "Requirement already satisfied: certifi>=2017.4.17 in /usr/local/lib/python3.11/dist-packages (from requests->panda) (2025.1.31)\n",
            "Requirement already satisfied: matplotlib in /usr/local/lib/python3.11/dist-packages (3.10.0)\n",
            "Requirement already satisfied: contourpy>=1.0.1 in /usr/local/lib/python3.11/dist-packages (from matplotlib) (1.3.1)\n",
            "Requirement already satisfied: cycler>=0.10 in /usr/local/lib/python3.11/dist-packages (from matplotlib) (0.12.1)\n",
            "Requirement already satisfied: fonttools>=4.22.0 in /usr/local/lib/python3.11/dist-packages (from matplotlib) (4.56.0)\n",
            "Requirement already satisfied: kiwisolver>=1.3.1 in /usr/local/lib/python3.11/dist-packages (from matplotlib) (1.4.8)\n",
            "Requirement already satisfied: numpy>=1.23 in /usr/local/lib/python3.11/dist-packages (from matplotlib) (1.26.4)\n",
            "Requirement already satisfied: packaging>=20.0 in /usr/local/lib/python3.11/dist-packages (from matplotlib) (24.2)\n",
            "Requirement already satisfied: pillow>=8 in /usr/local/lib/python3.11/dist-packages (from matplotlib) (11.1.0)\n",
            "Requirement already satisfied: pyparsing>=2.3.1 in /usr/local/lib/python3.11/dist-packages (from matplotlib) (3.2.1)\n",
            "Requirement already satisfied: python-dateutil>=2.7 in /usr/local/lib/python3.11/dist-packages (from matplotlib) (2.8.2)\n",
            "Requirement already satisfied: six>=1.5 in /usr/local/lib/python3.11/dist-packages (from python-dateutil>=2.7->matplotlib) (1.17.0)\n",
            "Requirement already satisfied: thefuzz in /usr/local/lib/python3.11/dist-packages (0.22.1)\n",
            "Requirement already satisfied: rapidfuzz<4.0.0,>=3.0.0 in /usr/local/lib/python3.11/dist-packages (from thefuzz) (3.12.1)\n",
            "Requirement already satisfied: seaborn in /usr/local/lib/python3.11/dist-packages (0.13.2)\n",
            "Requirement already satisfied: numpy!=1.24.0,>=1.20 in /usr/local/lib/python3.11/dist-packages (from seaborn) (1.26.4)\n",
            "Requirement already satisfied: pandas>=1.2 in /usr/local/lib/python3.11/dist-packages (from seaborn) (2.2.2)\n",
            "Requirement already satisfied: matplotlib!=3.6.1,>=3.4 in /usr/local/lib/python3.11/dist-packages (from seaborn) (3.10.0)\n",
            "Requirement already satisfied: contourpy>=1.0.1 in /usr/local/lib/python3.11/dist-packages (from matplotlib!=3.6.1,>=3.4->seaborn) (1.3.1)\n",
            "Requirement already satisfied: cycler>=0.10 in /usr/local/lib/python3.11/dist-packages (from matplotlib!=3.6.1,>=3.4->seaborn) (0.12.1)\n",
            "Requirement already satisfied: fonttools>=4.22.0 in /usr/local/lib/python3.11/dist-packages (from matplotlib!=3.6.1,>=3.4->seaborn) (4.56.0)\n",
            "Requirement already satisfied: kiwisolver>=1.3.1 in /usr/local/lib/python3.11/dist-packages (from matplotlib!=3.6.1,>=3.4->seaborn) (1.4.8)\n",
            "Requirement already satisfied: packaging>=20.0 in /usr/local/lib/python3.11/dist-packages (from matplotlib!=3.6.1,>=3.4->seaborn) (24.2)\n",
            "Requirement already satisfied: pillow>=8 in /usr/local/lib/python3.11/dist-packages (from matplotlib!=3.6.1,>=3.4->seaborn) (11.1.0)\n",
            "Requirement already satisfied: pyparsing>=2.3.1 in /usr/local/lib/python3.11/dist-packages (from matplotlib!=3.6.1,>=3.4->seaborn) (3.2.1)\n",
            "Requirement already satisfied: python-dateutil>=2.7 in /usr/local/lib/python3.11/dist-packages (from matplotlib!=3.6.1,>=3.4->seaborn) (2.8.2)\n",
            "Requirement already satisfied: pytz>=2020.1 in /usr/local/lib/python3.11/dist-packages (from pandas>=1.2->seaborn) (2025.1)\n",
            "Requirement already satisfied: tzdata>=2022.7 in /usr/local/lib/python3.11/dist-packages (from pandas>=1.2->seaborn) (2025.1)\n",
            "Requirement already satisfied: six>=1.5 in /usr/local/lib/python3.11/dist-packages (from python-dateutil>=2.7->matplotlib!=3.6.1,>=3.4->seaborn) (1.17.0)\n"
          ]
        }
      ]
    },
    {
      "cell_type": "code",
      "execution_count": 34,
      "metadata": {
        "id": "F_e7zPxX5FHl"
      },
      "outputs": [],
      "source": [
        "# Imported the librraries\n",
        "\n",
        "import re\n",
        "import warnings\n",
        "\n",
        "import numpy as np\n",
        "import pandas as pd\n",
        "import matplotlib.pyplot as plt\n",
        "import seaborn as sns\n",
        "\n",
        "from thefuzz import process  # Updated fuzzywuzzy to thefuzz\n",
        "from sklearn.feature_extraction.text import TfidfVectorizer\n",
        "from sklearn.metrics.pairwise import cosine_similarity\n",
        "\n",
        "# Suppress warnings\n",
        "warnings.filterwarnings('ignore')\n"
      ]
    },
    {
      "cell_type": "code",
      "source": [
        "#imported the file via google drve\n",
        "\n",
        "!gdown 12fQqqQ2rt3W_kXX1rHsPBcRR5pPOpR5z"
      ],
      "metadata": {
        "colab": {
          "base_uri": "https://localhost:8080/"
        },
        "id": "ujYapTPz5LFH",
        "outputId": "b89914a6-8f39-4e91-a182-cbdf31264242"
      },
      "execution_count": 5,
      "outputs": [
        {
          "output_type": "stream",
          "name": "stdout",
          "text": [
            "Downloading...\n",
            "From: https://drive.google.com/uc?id=12fQqqQ2rt3W_kXX1rHsPBcRR5pPOpR5z\n",
            "To: /content/DA_Task_1.xlsx\n",
            "\r  0% 0.00/33.6k [00:00<?, ?B/s]\r100% 33.6k/33.6k [00:00<00:00, 59.9MB/s]\n"
          ]
        }
      ]
    },
    {
      "cell_type": "code",
      "source": [
        "#loaded both the sheets as two different datasets\n",
        "\n",
        "task_df = pd.read_excel('DA_Task_1.xlsx',sheet_name=\"Task\")\n",
        "taxonomy_df = pd.read_excel('DA_Task_1.xlsx', sheet_name=\"Taxonomy\")\n",
        "task_df\n",
        "taxonomy_df"
      ],
      "metadata": {
        "colab": {
          "base_uri": "https://localhost:8080/",
          "height": 802
        },
        "id": "NNR8ccaX5LHr",
        "outputId": "aa2f529e-541a-4a08-b438-6095a138c091"
      },
      "execution_count": 7,
      "outputs": [
        {
          "output_type": "execute_result",
          "data": {
            "text/plain": [
              "              Root Cause  Symptom Condition          Symptom Component  \\\n",
              "0          Not Tightened               Loose                Cab P Clip   \n",
              "1          Not Installed     Won't stay open                 Fuel Door   \n",
              "2          Not Mentioned             Crushed  Compressor Pressure Line   \n",
              "3               Loosened         Oil Running             Not Mentioned   \n",
              "4           Not Included             Missing                    Vector   \n",
              "5         Out of Fitting        Oil Dripping                   Coupler   \n",
              "6                  Blown            Oil Leak            Mount SVM Sign   \n",
              "7          Poor Material               Broke                   Harness   \n",
              "8                Leaking                Leak                Rinse Tank   \n",
              "9         Failed Sending                Open               Fuel Sender   \n",
              "10              No Oring      Hydraulic Leak                      Boom   \n",
              "11           Not Tighten         Fold Uneven                 Auto Boom   \n",
              "12          Out of Range  Getting Fault Code                 Condenser   \n",
              "13  Lubricant Drip Drown         Not Working             Left-Air Duct   \n",
              "14                 Fault         Error Codes        Bulkhead Connector   \n",
              "15        Internal Issue        Product Leak             Braided Steel   \n",
              "16   Screwed in a Thread      Does not Light            Intrip Unlocks   \n",
              "17                Faulty                 NaN                    Sensor   \n",
              "18                   NaN                 NaN                       NaN   \n",
              "19                   NaN                 NaN                       NaN   \n",
              "20                   NaN                 NaN                       NaN   \n",
              "21                   NaN                 NaN                       NaN   \n",
              "22                   NaN                 NaN                       NaN   \n",
              "23                   NaN                 NaN                       NaN   \n",
              "\n",
              "    Fix Condition       Fix Component  \n",
              "0     Retightened          Cab P Clip  \n",
              "1       Installed           Gas Strut  \n",
              "2        Replaced       Braided Steel  \n",
              "3      Topped Off              O-Ring  \n",
              "4   Not Mentioned              Vector  \n",
              "5     Cleaned Out             Coupler  \n",
              "6         Reseted            Brackets  \n",
              "7        Repaired           Hydraulic  \n",
              "8       Tightened       Not Mentioned  \n",
              "9             NaN         NCV Harness  \n",
              "10            NaN                Tube  \n",
              "11            NaN               Oring  \n",
              "12            NaN              Sensor  \n",
              "13            NaN             Counter  \n",
              "14            NaN             Threads  \n",
              "15            NaN       Left Air Duct  \n",
              "16            NaN     Compressor Line  \n",
              "17            NaN      Intrip Unlocks  \n",
              "18            NaN               Bolts  \n",
              "19            NaN             Harness  \n",
              "20            NaN        Pipe Fitting  \n",
              "21            NaN  Bulkhead Connector  \n",
              "22            NaN            SVM Sign  \n",
              "23            NaN                 ELB  "
            ],
            "text/html": [
              "\n",
              "  <div id=\"df-43ed8423-59c5-4b5c-b8ec-a7ebebe18360\" class=\"colab-df-container\">\n",
              "    <div>\n",
              "<style scoped>\n",
              "    .dataframe tbody tr th:only-of-type {\n",
              "        vertical-align: middle;\n",
              "    }\n",
              "\n",
              "    .dataframe tbody tr th {\n",
              "        vertical-align: top;\n",
              "    }\n",
              "\n",
              "    .dataframe thead th {\n",
              "        text-align: right;\n",
              "    }\n",
              "</style>\n",
              "<table border=\"1\" class=\"dataframe\">\n",
              "  <thead>\n",
              "    <tr style=\"text-align: right;\">\n",
              "      <th></th>\n",
              "      <th>Root Cause</th>\n",
              "      <th>Symptom Condition</th>\n",
              "      <th>Symptom Component</th>\n",
              "      <th>Fix Condition</th>\n",
              "      <th>Fix Component</th>\n",
              "    </tr>\n",
              "  </thead>\n",
              "  <tbody>\n",
              "    <tr>\n",
              "      <th>0</th>\n",
              "      <td>Not Tightened</td>\n",
              "      <td>Loose</td>\n",
              "      <td>Cab P Clip</td>\n",
              "      <td>Retightened</td>\n",
              "      <td>Cab P Clip</td>\n",
              "    </tr>\n",
              "    <tr>\n",
              "      <th>1</th>\n",
              "      <td>Not Installed</td>\n",
              "      <td>Won't stay open</td>\n",
              "      <td>Fuel Door</td>\n",
              "      <td>Installed</td>\n",
              "      <td>Gas Strut</td>\n",
              "    </tr>\n",
              "    <tr>\n",
              "      <th>2</th>\n",
              "      <td>Not Mentioned</td>\n",
              "      <td>Crushed</td>\n",
              "      <td>Compressor Pressure Line</td>\n",
              "      <td>Replaced</td>\n",
              "      <td>Braided Steel</td>\n",
              "    </tr>\n",
              "    <tr>\n",
              "      <th>3</th>\n",
              "      <td>Loosened</td>\n",
              "      <td>Oil Running</td>\n",
              "      <td>Not Mentioned</td>\n",
              "      <td>Topped Off</td>\n",
              "      <td>O-Ring</td>\n",
              "    </tr>\n",
              "    <tr>\n",
              "      <th>4</th>\n",
              "      <td>Not Included</td>\n",
              "      <td>Missing</td>\n",
              "      <td>Vector</td>\n",
              "      <td>Not Mentioned</td>\n",
              "      <td>Vector</td>\n",
              "    </tr>\n",
              "    <tr>\n",
              "      <th>5</th>\n",
              "      <td>Out of Fitting</td>\n",
              "      <td>Oil Dripping</td>\n",
              "      <td>Coupler</td>\n",
              "      <td>Cleaned Out</td>\n",
              "      <td>Coupler</td>\n",
              "    </tr>\n",
              "    <tr>\n",
              "      <th>6</th>\n",
              "      <td>Blown</td>\n",
              "      <td>Oil Leak</td>\n",
              "      <td>Mount SVM Sign</td>\n",
              "      <td>Reseted</td>\n",
              "      <td>Brackets</td>\n",
              "    </tr>\n",
              "    <tr>\n",
              "      <th>7</th>\n",
              "      <td>Poor Material</td>\n",
              "      <td>Broke</td>\n",
              "      <td>Harness</td>\n",
              "      <td>Repaired</td>\n",
              "      <td>Hydraulic</td>\n",
              "    </tr>\n",
              "    <tr>\n",
              "      <th>8</th>\n",
              "      <td>Leaking</td>\n",
              "      <td>Leak</td>\n",
              "      <td>Rinse Tank</td>\n",
              "      <td>Tightened</td>\n",
              "      <td>Not Mentioned</td>\n",
              "    </tr>\n",
              "    <tr>\n",
              "      <th>9</th>\n",
              "      <td>Failed Sending</td>\n",
              "      <td>Open</td>\n",
              "      <td>Fuel Sender</td>\n",
              "      <td>NaN</td>\n",
              "      <td>NCV Harness</td>\n",
              "    </tr>\n",
              "    <tr>\n",
              "      <th>10</th>\n",
              "      <td>No Oring</td>\n",
              "      <td>Hydraulic Leak</td>\n",
              "      <td>Boom</td>\n",
              "      <td>NaN</td>\n",
              "      <td>Tube</td>\n",
              "    </tr>\n",
              "    <tr>\n",
              "      <th>11</th>\n",
              "      <td>Not Tighten</td>\n",
              "      <td>Fold Uneven</td>\n",
              "      <td>Auto Boom</td>\n",
              "      <td>NaN</td>\n",
              "      <td>Oring</td>\n",
              "    </tr>\n",
              "    <tr>\n",
              "      <th>12</th>\n",
              "      <td>Out of Range</td>\n",
              "      <td>Getting Fault Code</td>\n",
              "      <td>Condenser</td>\n",
              "      <td>NaN</td>\n",
              "      <td>Sensor</td>\n",
              "    </tr>\n",
              "    <tr>\n",
              "      <th>13</th>\n",
              "      <td>Lubricant Drip Drown</td>\n",
              "      <td>Not Working</td>\n",
              "      <td>Left-Air Duct</td>\n",
              "      <td>NaN</td>\n",
              "      <td>Counter</td>\n",
              "    </tr>\n",
              "    <tr>\n",
              "      <th>14</th>\n",
              "      <td>Fault</td>\n",
              "      <td>Error Codes</td>\n",
              "      <td>Bulkhead Connector</td>\n",
              "      <td>NaN</td>\n",
              "      <td>Threads</td>\n",
              "    </tr>\n",
              "    <tr>\n",
              "      <th>15</th>\n",
              "      <td>Internal Issue</td>\n",
              "      <td>Product Leak</td>\n",
              "      <td>Braided Steel</td>\n",
              "      <td>NaN</td>\n",
              "      <td>Left Air Duct</td>\n",
              "    </tr>\n",
              "    <tr>\n",
              "      <th>16</th>\n",
              "      <td>Screwed in a Thread</td>\n",
              "      <td>Does not Light</td>\n",
              "      <td>Intrip Unlocks</td>\n",
              "      <td>NaN</td>\n",
              "      <td>Compressor Line</td>\n",
              "    </tr>\n",
              "    <tr>\n",
              "      <th>17</th>\n",
              "      <td>Faulty</td>\n",
              "      <td>NaN</td>\n",
              "      <td>Sensor</td>\n",
              "      <td>NaN</td>\n",
              "      <td>Intrip Unlocks</td>\n",
              "    </tr>\n",
              "    <tr>\n",
              "      <th>18</th>\n",
              "      <td>NaN</td>\n",
              "      <td>NaN</td>\n",
              "      <td>NaN</td>\n",
              "      <td>NaN</td>\n",
              "      <td>Bolts</td>\n",
              "    </tr>\n",
              "    <tr>\n",
              "      <th>19</th>\n",
              "      <td>NaN</td>\n",
              "      <td>NaN</td>\n",
              "      <td>NaN</td>\n",
              "      <td>NaN</td>\n",
              "      <td>Harness</td>\n",
              "    </tr>\n",
              "    <tr>\n",
              "      <th>20</th>\n",
              "      <td>NaN</td>\n",
              "      <td>NaN</td>\n",
              "      <td>NaN</td>\n",
              "      <td>NaN</td>\n",
              "      <td>Pipe Fitting</td>\n",
              "    </tr>\n",
              "    <tr>\n",
              "      <th>21</th>\n",
              "      <td>NaN</td>\n",
              "      <td>NaN</td>\n",
              "      <td>NaN</td>\n",
              "      <td>NaN</td>\n",
              "      <td>Bulkhead Connector</td>\n",
              "    </tr>\n",
              "    <tr>\n",
              "      <th>22</th>\n",
              "      <td>NaN</td>\n",
              "      <td>NaN</td>\n",
              "      <td>NaN</td>\n",
              "      <td>NaN</td>\n",
              "      <td>SVM Sign</td>\n",
              "    </tr>\n",
              "    <tr>\n",
              "      <th>23</th>\n",
              "      <td>NaN</td>\n",
              "      <td>NaN</td>\n",
              "      <td>NaN</td>\n",
              "      <td>NaN</td>\n",
              "      <td>ELB</td>\n",
              "    </tr>\n",
              "  </tbody>\n",
              "</table>\n",
              "</div>\n",
              "    <div class=\"colab-df-buttons\">\n",
              "\n",
              "  <div class=\"colab-df-container\">\n",
              "    <button class=\"colab-df-convert\" onclick=\"convertToInteractive('df-43ed8423-59c5-4b5c-b8ec-a7ebebe18360')\"\n",
              "            title=\"Convert this dataframe to an interactive table.\"\n",
              "            style=\"display:none;\">\n",
              "\n",
              "  <svg xmlns=\"http://www.w3.org/2000/svg\" height=\"24px\" viewBox=\"0 -960 960 960\">\n",
              "    <path d=\"M120-120v-720h720v720H120Zm60-500h600v-160H180v160Zm220 220h160v-160H400v160Zm0 220h160v-160H400v160ZM180-400h160v-160H180v160Zm440 0h160v-160H620v160ZM180-180h160v-160H180v160Zm440 0h160v-160H620v160Z\"/>\n",
              "  </svg>\n",
              "    </button>\n",
              "\n",
              "  <style>\n",
              "    .colab-df-container {\n",
              "      display:flex;\n",
              "      gap: 12px;\n",
              "    }\n",
              "\n",
              "    .colab-df-convert {\n",
              "      background-color: #E8F0FE;\n",
              "      border: none;\n",
              "      border-radius: 50%;\n",
              "      cursor: pointer;\n",
              "      display: none;\n",
              "      fill: #1967D2;\n",
              "      height: 32px;\n",
              "      padding: 0 0 0 0;\n",
              "      width: 32px;\n",
              "    }\n",
              "\n",
              "    .colab-df-convert:hover {\n",
              "      background-color: #E2EBFA;\n",
              "      box-shadow: 0px 1px 2px rgba(60, 64, 67, 0.3), 0px 1px 3px 1px rgba(60, 64, 67, 0.15);\n",
              "      fill: #174EA6;\n",
              "    }\n",
              "\n",
              "    .colab-df-buttons div {\n",
              "      margin-bottom: 4px;\n",
              "    }\n",
              "\n",
              "    [theme=dark] .colab-df-convert {\n",
              "      background-color: #3B4455;\n",
              "      fill: #D2E3FC;\n",
              "    }\n",
              "\n",
              "    [theme=dark] .colab-df-convert:hover {\n",
              "      background-color: #434B5C;\n",
              "      box-shadow: 0px 1px 3px 1px rgba(0, 0, 0, 0.15);\n",
              "      filter: drop-shadow(0px 1px 2px rgba(0, 0, 0, 0.3));\n",
              "      fill: #FFFFFF;\n",
              "    }\n",
              "  </style>\n",
              "\n",
              "    <script>\n",
              "      const buttonEl =\n",
              "        document.querySelector('#df-43ed8423-59c5-4b5c-b8ec-a7ebebe18360 button.colab-df-convert');\n",
              "      buttonEl.style.display =\n",
              "        google.colab.kernel.accessAllowed ? 'block' : 'none';\n",
              "\n",
              "      async function convertToInteractive(key) {\n",
              "        const element = document.querySelector('#df-43ed8423-59c5-4b5c-b8ec-a7ebebe18360');\n",
              "        const dataTable =\n",
              "          await google.colab.kernel.invokeFunction('convertToInteractive',\n",
              "                                                    [key], {});\n",
              "        if (!dataTable) return;\n",
              "\n",
              "        const docLinkHtml = 'Like what you see? Visit the ' +\n",
              "          '<a target=\"_blank\" href=https://colab.research.google.com/notebooks/data_table.ipynb>data table notebook</a>'\n",
              "          + ' to learn more about interactive tables.';\n",
              "        element.innerHTML = '';\n",
              "        dataTable['output_type'] = 'display_data';\n",
              "        await google.colab.output.renderOutput(dataTable, element);\n",
              "        const docLink = document.createElement('div');\n",
              "        docLink.innerHTML = docLinkHtml;\n",
              "        element.appendChild(docLink);\n",
              "      }\n",
              "    </script>\n",
              "  </div>\n",
              "\n",
              "\n",
              "<div id=\"df-ee595a0e-8fdd-4d77-905a-799223c18ebe\">\n",
              "  <button class=\"colab-df-quickchart\" onclick=\"quickchart('df-ee595a0e-8fdd-4d77-905a-799223c18ebe')\"\n",
              "            title=\"Suggest charts\"\n",
              "            style=\"display:none;\">\n",
              "\n",
              "<svg xmlns=\"http://www.w3.org/2000/svg\" height=\"24px\"viewBox=\"0 0 24 24\"\n",
              "     width=\"24px\">\n",
              "    <g>\n",
              "        <path d=\"M19 3H5c-1.1 0-2 .9-2 2v14c0 1.1.9 2 2 2h14c1.1 0 2-.9 2-2V5c0-1.1-.9-2-2-2zM9 17H7v-7h2v7zm4 0h-2V7h2v10zm4 0h-2v-4h2v4z\"/>\n",
              "    </g>\n",
              "</svg>\n",
              "  </button>\n",
              "\n",
              "<style>\n",
              "  .colab-df-quickchart {\n",
              "      --bg-color: #E8F0FE;\n",
              "      --fill-color: #1967D2;\n",
              "      --hover-bg-color: #E2EBFA;\n",
              "      --hover-fill-color: #174EA6;\n",
              "      --disabled-fill-color: #AAA;\n",
              "      --disabled-bg-color: #DDD;\n",
              "  }\n",
              "\n",
              "  [theme=dark] .colab-df-quickchart {\n",
              "      --bg-color: #3B4455;\n",
              "      --fill-color: #D2E3FC;\n",
              "      --hover-bg-color: #434B5C;\n",
              "      --hover-fill-color: #FFFFFF;\n",
              "      --disabled-bg-color: #3B4455;\n",
              "      --disabled-fill-color: #666;\n",
              "  }\n",
              "\n",
              "  .colab-df-quickchart {\n",
              "    background-color: var(--bg-color);\n",
              "    border: none;\n",
              "    border-radius: 50%;\n",
              "    cursor: pointer;\n",
              "    display: none;\n",
              "    fill: var(--fill-color);\n",
              "    height: 32px;\n",
              "    padding: 0;\n",
              "    width: 32px;\n",
              "  }\n",
              "\n",
              "  .colab-df-quickchart:hover {\n",
              "    background-color: var(--hover-bg-color);\n",
              "    box-shadow: 0 1px 2px rgba(60, 64, 67, 0.3), 0 1px 3px 1px rgba(60, 64, 67, 0.15);\n",
              "    fill: var(--button-hover-fill-color);\n",
              "  }\n",
              "\n",
              "  .colab-df-quickchart-complete:disabled,\n",
              "  .colab-df-quickchart-complete:disabled:hover {\n",
              "    background-color: var(--disabled-bg-color);\n",
              "    fill: var(--disabled-fill-color);\n",
              "    box-shadow: none;\n",
              "  }\n",
              "\n",
              "  .colab-df-spinner {\n",
              "    border: 2px solid var(--fill-color);\n",
              "    border-color: transparent;\n",
              "    border-bottom-color: var(--fill-color);\n",
              "    animation:\n",
              "      spin 1s steps(1) infinite;\n",
              "  }\n",
              "\n",
              "  @keyframes spin {\n",
              "    0% {\n",
              "      border-color: transparent;\n",
              "      border-bottom-color: var(--fill-color);\n",
              "      border-left-color: var(--fill-color);\n",
              "    }\n",
              "    20% {\n",
              "      border-color: transparent;\n",
              "      border-left-color: var(--fill-color);\n",
              "      border-top-color: var(--fill-color);\n",
              "    }\n",
              "    30% {\n",
              "      border-color: transparent;\n",
              "      border-left-color: var(--fill-color);\n",
              "      border-top-color: var(--fill-color);\n",
              "      border-right-color: var(--fill-color);\n",
              "    }\n",
              "    40% {\n",
              "      border-color: transparent;\n",
              "      border-right-color: var(--fill-color);\n",
              "      border-top-color: var(--fill-color);\n",
              "    }\n",
              "    60% {\n",
              "      border-color: transparent;\n",
              "      border-right-color: var(--fill-color);\n",
              "    }\n",
              "    80% {\n",
              "      border-color: transparent;\n",
              "      border-right-color: var(--fill-color);\n",
              "      border-bottom-color: var(--fill-color);\n",
              "    }\n",
              "    90% {\n",
              "      border-color: transparent;\n",
              "      border-bottom-color: var(--fill-color);\n",
              "    }\n",
              "  }\n",
              "</style>\n",
              "\n",
              "  <script>\n",
              "    async function quickchart(key) {\n",
              "      const quickchartButtonEl =\n",
              "        document.querySelector('#' + key + ' button');\n",
              "      quickchartButtonEl.disabled = true;  // To prevent multiple clicks.\n",
              "      quickchartButtonEl.classList.add('colab-df-spinner');\n",
              "      try {\n",
              "        const charts = await google.colab.kernel.invokeFunction(\n",
              "            'suggestCharts', [key], {});\n",
              "      } catch (error) {\n",
              "        console.error('Error during call to suggestCharts:', error);\n",
              "      }\n",
              "      quickchartButtonEl.classList.remove('colab-df-spinner');\n",
              "      quickchartButtonEl.classList.add('colab-df-quickchart-complete');\n",
              "    }\n",
              "    (() => {\n",
              "      let quickchartButtonEl =\n",
              "        document.querySelector('#df-ee595a0e-8fdd-4d77-905a-799223c18ebe button');\n",
              "      quickchartButtonEl.style.display =\n",
              "        google.colab.kernel.accessAllowed ? 'block' : 'none';\n",
              "    })();\n",
              "  </script>\n",
              "</div>\n",
              "\n",
              "  <div id=\"id_25870e44-c32a-455e-af3e-310a0566002b\">\n",
              "    <style>\n",
              "      .colab-df-generate {\n",
              "        background-color: #E8F0FE;\n",
              "        border: none;\n",
              "        border-radius: 50%;\n",
              "        cursor: pointer;\n",
              "        display: none;\n",
              "        fill: #1967D2;\n",
              "        height: 32px;\n",
              "        padding: 0 0 0 0;\n",
              "        width: 32px;\n",
              "      }\n",
              "\n",
              "      .colab-df-generate:hover {\n",
              "        background-color: #E2EBFA;\n",
              "        box-shadow: 0px 1px 2px rgba(60, 64, 67, 0.3), 0px 1px 3px 1px rgba(60, 64, 67, 0.15);\n",
              "        fill: #174EA6;\n",
              "      }\n",
              "\n",
              "      [theme=dark] .colab-df-generate {\n",
              "        background-color: #3B4455;\n",
              "        fill: #D2E3FC;\n",
              "      }\n",
              "\n",
              "      [theme=dark] .colab-df-generate:hover {\n",
              "        background-color: #434B5C;\n",
              "        box-shadow: 0px 1px 3px 1px rgba(0, 0, 0, 0.15);\n",
              "        filter: drop-shadow(0px 1px 2px rgba(0, 0, 0, 0.3));\n",
              "        fill: #FFFFFF;\n",
              "      }\n",
              "    </style>\n",
              "    <button class=\"colab-df-generate\" onclick=\"generateWithVariable('taxonomy_df')\"\n",
              "            title=\"Generate code using this dataframe.\"\n",
              "            style=\"display:none;\">\n",
              "\n",
              "  <svg xmlns=\"http://www.w3.org/2000/svg\" height=\"24px\"viewBox=\"0 0 24 24\"\n",
              "       width=\"24px\">\n",
              "    <path d=\"M7,19H8.4L18.45,9,17,7.55,7,17.6ZM5,21V16.75L18.45,3.32a2,2,0,0,1,2.83,0l1.4,1.43a1.91,1.91,0,0,1,.58,1.4,1.91,1.91,0,0,1-.58,1.4L9.25,21ZM18.45,9,17,7.55Zm-12,3A5.31,5.31,0,0,0,4.9,8.1,5.31,5.31,0,0,0,1,6.5,5.31,5.31,0,0,0,4.9,4.9,5.31,5.31,0,0,0,6.5,1,5.31,5.31,0,0,0,8.1,4.9,5.31,5.31,0,0,0,12,6.5,5.46,5.46,0,0,0,6.5,12Z\"/>\n",
              "  </svg>\n",
              "    </button>\n",
              "    <script>\n",
              "      (() => {\n",
              "      const buttonEl =\n",
              "        document.querySelector('#id_25870e44-c32a-455e-af3e-310a0566002b button.colab-df-generate');\n",
              "      buttonEl.style.display =\n",
              "        google.colab.kernel.accessAllowed ? 'block' : 'none';\n",
              "\n",
              "      buttonEl.onclick = () => {\n",
              "        google.colab.notebook.generateWithVariable('taxonomy_df');\n",
              "      }\n",
              "      })();\n",
              "    </script>\n",
              "  </div>\n",
              "\n",
              "    </div>\n",
              "  </div>\n"
            ],
            "application/vnd.google.colaboratory.intrinsic+json": {
              "type": "dataframe",
              "variable_name": "taxonomy_df",
              "summary": "{\n  \"name\": \"taxonomy_df\",\n  \"rows\": 24,\n  \"fields\": [\n    {\n      \"column\": \"Root Cause\",\n      \"properties\": {\n        \"dtype\": \"string\",\n        \"num_unique_values\": 18,\n        \"samples\": [\n          \"Not Tightened\",\n          \"Not Installed\",\n          \"Leaking\"\n        ],\n        \"semantic_type\": \"\",\n        \"description\": \"\"\n      }\n    },\n    {\n      \"column\": \"Symptom Condition \",\n      \"properties\": {\n        \"dtype\": \"string\",\n        \"num_unique_values\": 17,\n        \"samples\": [\n          \"Loose\",\n          \"Won't stay open\",\n          \"Oil Dripping\"\n        ],\n        \"semantic_type\": \"\",\n        \"description\": \"\"\n      }\n    },\n    {\n      \"column\": \"Symptom Component\",\n      \"properties\": {\n        \"dtype\": \"string\",\n        \"num_unique_values\": 18,\n        \"samples\": [\n          \"Cab P Clip\",\n          \"Fuel Door\",\n          \"Rinse Tank\"\n        ],\n        \"semantic_type\": \"\",\n        \"description\": \"\"\n      }\n    },\n    {\n      \"column\": \"Fix Condition\",\n      \"properties\": {\n        \"dtype\": \"category\",\n        \"num_unique_values\": 9,\n        \"samples\": [\n          \"Repaired\",\n          \"Installed\",\n          \"Cleaned Out\"\n        ],\n        \"semantic_type\": \"\",\n        \"description\": \"\"\n      }\n    },\n    {\n      \"column\": \"Fix Component\",\n      \"properties\": {\n        \"dtype\": \"string\",\n        \"num_unique_values\": 24,\n        \"samples\": [\n          \"Not Mentioned\",\n          \"Compressor Line\",\n          \"Cab P Clip\"\n        ],\n        \"semantic_type\": \"\",\n        \"description\": \"\"\n      }\n    }\n  ]\n}"
            }
          },
          "metadata": {},
          "execution_count": 7
        }
      ]
    },
    {
      "cell_type": "code",
      "source": [
        "print(taxonomy_df.columns)\n",
        "\n"
      ],
      "metadata": {
        "colab": {
          "base_uri": "https://localhost:8080/"
        },
        "id": "E-5mKelk7W37",
        "outputId": "88231264-c066-4f0c-eed7-228b5023a939"
      },
      "execution_count": 15,
      "outputs": [
        {
          "output_type": "stream",
          "name": "stdout",
          "text": [
            "Index(['Root Cause', 'Symptom Condition ', 'Symptom Component',\n",
            "       'Fix Condition', 'Fix Component'],\n",
            "      dtype='object')\n"
          ]
        }
      ]
    },
    {
      "cell_type": "code",
      "source": [
        "# removed all the spaces from the column header\n",
        "\n",
        "taxonomy_df.columns = taxonomy_df.columns.str.strip()\n",
        "print(taxonomy_df.columns)"
      ],
      "metadata": {
        "colab": {
          "base_uri": "https://localhost:8080/"
        },
        "id": "t_y2sh8H8S-K",
        "outputId": "046595cb-cced-42b1-fb6d-4f677be4f053"
      },
      "execution_count": 17,
      "outputs": [
        {
          "output_type": "stream",
          "name": "stdout",
          "text": [
            "Index(['Root Cause', 'Symptom Condition', 'Symptom Component', 'Fix Condition',\n",
            "       'Fix Component'],\n",
            "      dtype='object')\n"
          ]
        }
      ]
    },
    {
      "cell_type": "code",
      "source": [
        "# Preprocessing function\n",
        "\n",
        "def preprocess_text(text):\n",
        "    if pd.isna(text):\n",
        "        return \"\"\n",
        "    text = text.lower().strip()\n",
        "    text = re.sub(r'[^a-z0-9 ]', '', text)  # Remove special characters\n",
        "    text = re.sub(r'\\s+', ' ', text)  # Normalize spaces\n",
        "    return text"
      ],
      "metadata": {
        "id": "1gt-E1F95LKO"
      },
      "execution_count": 18,
      "outputs": []
    },
    {
      "cell_type": "code",
      "source": [
        "# Function to find best match\n",
        "\n",
        "def find_best_match(text, categories):\n",
        "    if not categories or text == \"\":\n",
        "        return \"Needs Review\"\n",
        "    match, score = process.extractOne(text, categories)\n",
        "    return match if score > 80 else \"Needs Review\"\n"
      ],
      "metadata": {
        "id": "PoU20zOH5LMs"
      },
      "execution_count": 19,
      "outputs": []
    },
    {
      "cell_type": "code",
      "source": [
        "# Create taxonomy dictionary\n",
        "\n",
        "taxonomy_dict = {\n",
        "    \"Root Cause\": taxonomy_df[\"Root Cause\"].dropna().tolist(),\n",
        "    \"Symptom Condition\": taxonomy_df[\"Symptom Condition\"].dropna().tolist(),  # Fix column name\n",
        "    \"Symptom Component\": taxonomy_df[\"Symptom Component\"].dropna().tolist(),\n",
        "    \"Fix Condition\": taxonomy_df[\"Fix Condition\"].dropna().tolist(),\n",
        "    \"Fix Component\": taxonomy_df[\"Fix Component\"].dropna().tolist()\n",
        "}\n"
      ],
      "metadata": {
        "id": "BGV0fMMK5LPP"
      },
      "execution_count": 20,
      "outputs": []
    },
    {
      "cell_type": "code",
      "source": [
        "# Preprocessing function\n",
        "\n",
        "def preprocess_text(text):\n",
        "    if pd.isna(text):\n",
        "        return \"\"\n",
        "    text = text.lower().strip()\n",
        "    text = re.sub(r'[^a-z0-9 ]', '', text)  # Remove special characters\n",
        "    text = re.sub(r'\\s+', ' ', text)  # Normalize spaces\n",
        "    return text\n"
      ],
      "metadata": {
        "id": "nNuRiJ4y5LRr"
      },
      "execution_count": 21,
      "outputs": []
    },
    {
      "cell_type": "code",
      "source": [
        "# Function to find best match\n",
        "\n",
        "\n",
        "def find_best_match(text, categories):\n",
        "    if not categories or text == \"\":\n",
        "        return \"Needs Review\"\n",
        "    match, score = process.extractOne(text, categories)\n",
        "    return match if score > 80 else \"Needs Review\"\n"
      ],
      "metadata": {
        "id": "E8so459m5LT_"
      },
      "execution_count": 36,
      "outputs": []
    },
    {
      "cell_type": "code",
      "source": [
        "# Create taxonomy dictionary with corrected column names\n",
        "\n",
        "taxonomy_dict = {\n",
        "    \"Root Cause\": taxonomy_df[\"Root Cause\"].dropna().tolist(),\n",
        "    \"Symptom_Condition\": taxonomy_df[\"Symptom Condition\"].dropna().tolist(),  # Trimmed column name\n",
        "    \"Symptom_Component\": taxonomy_df[\"Symptom Component\"].dropna().tolist(),\n",
        "    \"Fix_Condition\": taxonomy_df[\"Fix Condition\"].dropna().tolist(),\n",
        "    \"Fix_Component\": taxonomy_df[\"Fix Component\"].dropna().tolist()\n",
        "}"
      ],
      "metadata": {
        "id": "yP5_048i5LWj"
      },
      "execution_count": 37,
      "outputs": []
    },
    {
      "cell_type": "code",
      "source": [
        "# Apply logical tagging based on examples\n",
        "\n",
        "low_confidence_matches = []\n",
        "for index, row in task_df.iterrows():\n",
        "    for tag, categories in taxonomy_dict.items():\n",
        "        if tag == \"Root Cause\":\n",
        "            text = row[\"Cause\"]\n",
        "        elif \"Symptom\" in tag:\n",
        "            text = row[\"Complaint\"]\n",
        "        elif \"Fix\" in tag:\n",
        "            text = row[\"Correction\"]\n",
        "        else:\n",
        "            continue\n",
        "\n",
        "        text = preprocess_text(text)\n",
        "        best_match = find_best_match(text, categories)\n",
        "        task_df.at[index, f\"{tag}_Tag\"] = best_match\n",
        "\n",
        "        if best_match == \"Needs Review\":\n",
        "            low_confidence_matches.append({\n",
        "                \"Index\": index,\n",
        "                \"Column\": tag,\n",
        "                \"Text\": text\n",
        "            })\n"
      ],
      "metadata": {
        "id": "_Ys3TOJ95LZQ"
      },
      "execution_count": 38,
      "outputs": []
    },
    {
      "cell_type": "code",
      "source": [
        "# Save tagged data\n",
        "\n",
        "task_df.to_excel(\"/content/Tagged_Task_Data.xlsx\", index=False)\n"
      ],
      "metadata": {
        "id": "GCIe22tk5LcE"
      },
      "execution_count": 26,
      "outputs": []
    },
    {
      "cell_type": "code",
      "source": [
        "# Save low-confidence matches for manual review\n",
        "\n",
        "review_df = pd.DataFrame(low_confidence_matches)\n",
        "review_df.to_excel(\"/content/Low_Confidence_Matches.xlsx\", index=False)"
      ],
      "metadata": {
        "id": "-ClLxcY08lRW"
      },
      "execution_count": 27,
      "outputs": []
    },
    {
      "cell_type": "code",
      "source": [
        "print(\"Tagging complete. Files saved:\")"
      ],
      "metadata": {
        "colab": {
          "base_uri": "https://localhost:8080/"
        },
        "id": "bckFFNka8lUp",
        "outputId": "67a7ae0d-520e-44a8-b0a7-7a79c324b86e"
      },
      "execution_count": 28,
      "outputs": [
        {
          "output_type": "stream",
          "name": "stdout",
          "text": [
            "Tagging complete. Files saved:\n"
          ]
        }
      ]
    },
    {
      "cell_type": "code",
      "source": [
        "print(\"- /content/Tagged_Task_Data.xlsx\")"
      ],
      "metadata": {
        "colab": {
          "base_uri": "https://localhost:8080/"
        },
        "id": "41Yt4JMr8-4Q",
        "outputId": "a44ecd19-69eb-40d4-f0c9-a6419bf2ebc6"
      },
      "execution_count": 29,
      "outputs": [
        {
          "output_type": "stream",
          "name": "stdout",
          "text": [
            "- /content/Tagged_Task_Data.xlsx\n"
          ]
        }
      ]
    },
    {
      "cell_type": "code",
      "source": [
        "print(\"- /content/Low_Confidence_Matches.xlsx\")\n"
      ],
      "metadata": {
        "colab": {
          "base_uri": "https://localhost:8080/"
        },
        "id": "Go9jl5gE8-7H",
        "outputId": "8eb12ac8-0602-4a05-f116-59654ae325ae"
      },
      "execution_count": 30,
      "outputs": [
        {
          "output_type": "stream",
          "name": "stdout",
          "text": [
            "- /content/Low_Confidence_Matches.xlsx\n"
          ]
        }
      ]
    },
    {
      "cell_type": "code",
      "source": [
        "from google.colab import files\n",
        "\n",
        "# Download the tagged dataset\n",
        "files.download(\"/content/Tagged_Task_Data.xlsx\")\n",
        "\n",
        "# Download the low-confidence matches for review (optional)\n",
        "files.download(\"/content/Low_Confidence_Matches.xlsx\")\n"
      ],
      "metadata": {
        "colab": {
          "base_uri": "https://localhost:8080/",
          "height": 17
        },
        "id": "-En6kuto8--J",
        "outputId": "6cef1ee2-d9bf-42ae-bd6b-552239903cc5"
      },
      "execution_count": 32,
      "outputs": [
        {
          "output_type": "display_data",
          "data": {
            "text/plain": [
              "<IPython.core.display.Javascript object>"
            ],
            "application/javascript": [
              "\n",
              "    async function download(id, filename, size) {\n",
              "      if (!google.colab.kernel.accessAllowed) {\n",
              "        return;\n",
              "      }\n",
              "      const div = document.createElement('div');\n",
              "      const label = document.createElement('label');\n",
              "      label.textContent = `Downloading \"${filename}\": `;\n",
              "      div.appendChild(label);\n",
              "      const progress = document.createElement('progress');\n",
              "      progress.max = size;\n",
              "      div.appendChild(progress);\n",
              "      document.body.appendChild(div);\n",
              "\n",
              "      const buffers = [];\n",
              "      let downloaded = 0;\n",
              "\n",
              "      const channel = await google.colab.kernel.comms.open(id);\n",
              "      // Send a message to notify the kernel that we're ready.\n",
              "      channel.send({})\n",
              "\n",
              "      for await (const message of channel.messages) {\n",
              "        // Send a message to notify the kernel that we're ready.\n",
              "        channel.send({})\n",
              "        if (message.buffers) {\n",
              "          for (const buffer of message.buffers) {\n",
              "            buffers.push(buffer);\n",
              "            downloaded += buffer.byteLength;\n",
              "            progress.value = downloaded;\n",
              "          }\n",
              "        }\n",
              "      }\n",
              "      const blob = new Blob(buffers, {type: 'application/binary'});\n",
              "      const a = document.createElement('a');\n",
              "      a.href = window.URL.createObjectURL(blob);\n",
              "      a.download = filename;\n",
              "      div.appendChild(a);\n",
              "      a.click();\n",
              "      div.remove();\n",
              "    }\n",
              "  "
            ]
          },
          "metadata": {}
        },
        {
          "output_type": "display_data",
          "data": {
            "text/plain": [
              "<IPython.core.display.Javascript object>"
            ],
            "application/javascript": [
              "download(\"download_4c95cd8d-b144-4a73-8583-e7ce45c5a383\", \"Tagged_Task_Data.xlsx\", 9973)"
            ]
          },
          "metadata": {}
        },
        {
          "output_type": "display_data",
          "data": {
            "text/plain": [
              "<IPython.core.display.Javascript object>"
            ],
            "application/javascript": [
              "\n",
              "    async function download(id, filename, size) {\n",
              "      if (!google.colab.kernel.accessAllowed) {\n",
              "        return;\n",
              "      }\n",
              "      const div = document.createElement('div');\n",
              "      const label = document.createElement('label');\n",
              "      label.textContent = `Downloading \"${filename}\": `;\n",
              "      div.appendChild(label);\n",
              "      const progress = document.createElement('progress');\n",
              "      progress.max = size;\n",
              "      div.appendChild(progress);\n",
              "      document.body.appendChild(div);\n",
              "\n",
              "      const buffers = [];\n",
              "      let downloaded = 0;\n",
              "\n",
              "      const channel = await google.colab.kernel.comms.open(id);\n",
              "      // Send a message to notify the kernel that we're ready.\n",
              "      channel.send({})\n",
              "\n",
              "      for await (const message of channel.messages) {\n",
              "        // Send a message to notify the kernel that we're ready.\n",
              "        channel.send({})\n",
              "        if (message.buffers) {\n",
              "          for (const buffer of message.buffers) {\n",
              "            buffers.push(buffer);\n",
              "            downloaded += buffer.byteLength;\n",
              "            progress.value = downloaded;\n",
              "          }\n",
              "        }\n",
              "      }\n",
              "      const blob = new Blob(buffers, {type: 'application/binary'});\n",
              "      const a = document.createElement('a');\n",
              "      a.href = window.URL.createObjectURL(blob);\n",
              "      a.download = filename;\n",
              "      div.appendChild(a);\n",
              "      a.click();\n",
              "      div.remove();\n",
              "    }\n",
              "  "
            ]
          },
          "metadata": {}
        },
        {
          "output_type": "display_data",
          "data": {
            "text/plain": [
              "<IPython.core.display.Javascript object>"
            ],
            "application/javascript": [
              "download(\"download_f7b56cb6-98cf-42de-9719-c25a514991d9\", \"Low_Confidence_Matches.xlsx\", 7630)"
            ]
          },
          "metadata": {}
        }
      ]
    },
    {
      "cell_type": "code",
      "source": [],
      "metadata": {
        "id": "NyePjpTC9aXb"
      },
      "execution_count": null,
      "outputs": []
    },
    {
      "cell_type": "code",
      "source": [],
      "metadata": {
        "id": "uNedzlUR8lYg"
      },
      "execution_count": null,
      "outputs": []
    }
  ]
}